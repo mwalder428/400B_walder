{
 "cells": [
  {
   "cell_type": "code",
   "execution_count": 41,
   "metadata": {},
   "outputs": [],
   "source": [
    "# Homework 4\n",
    "# Center of Mass Position and Velocity\n",
    "# Madison Walder"
   ]
  },
  {
   "cell_type": "markdown",
   "metadata": {},
   "source": [
    "### Keep in mind this is just a template; you don't need to follow every step and feel free to change anything.\n",
    "### We also strongly encourage you to try to develop your own method to solve the homework."
   ]
  },
  {
   "cell_type": "code",
   "execution_count": 42,
   "metadata": {
    "ExecuteTime": {
     "end_time": "2020-02-04T23:59:21.657237Z",
     "start_time": "2020-02-04T23:59:21.653687Z"
    }
   },
   "outputs": [],
   "source": [
    "# import modules\n",
    "import numpy as np\n",
    "import astropy.units as u\n",
    "import astropy.table as tbl\n",
    "\n",
    "from Readfile import Read"
   ]
  },
  {
   "cell_type": "code",
   "execution_count": 43,
   "metadata": {
    "ExecuteTime": {
     "end_time": "2020-02-04T23:59:24.003059Z",
     "start_time": "2020-02-04T23:59:23.979271Z"
    }
   },
   "outputs": [],
   "source": [
    "class CenterOfMass:\n",
    "# Class to define COM position and velocity properties of a given galaxy \n",
    "# and simulation snapshot\n",
    "    \n",
    "    def __init__(self, filename, particletype):\n",
    "    # Initialize the instance of this Class with the following properties:\n",
    "    \n",
    "        # read data in the given file using Read\n",
    "        self.time, self.total, self.data = Read(filename)                                                                                             \n",
    "\n",
    "        #create an array to store indexes of particles of desired Ptype                                \n",
    "        self.index = np.where(self.data['type'] == particletype)\n",
    "\n",
    "        # store the mass, positions, velocities of only the particles of the given type\n",
    "        # the following only gives the example of storing the mass\n",
    "        self.m = self.data['m'][self.index]\n",
    "        # write your own code to complete this for positions and velocities\n",
    "        self.x = self.data['x'][self.index] \n",
    "        self.y = self.data['y'][self.index]\n",
    "        self.z = self.data['z'][self.index]\n",
    "        self.vx = self.data['vx'][self.index]\n",
    "        self.vy = self.data['vy'][self.index]\n",
    "        self.vz = self.data['vz'][self.index]\n",
    "\n",
    "\n",
    "    def COMdefine(self,a,b,c,m):\n",
    "    # Function to compute the center of mass position or velocity generically\n",
    "    # input: array (a,b,c) of positions or velocities and the mass\n",
    "    # returns: 3 floats  (the center of mass coordinates)\n",
    "\n",
    "        # write your own code to compute the generic COM using Eq. 1 in the homework instructions\n",
    "        \n",
    "        #sum up all of the masses in the array to get the denominator to calculate the COM with Eq. 1\n",
    "        totalmass = np.sum(m)\n",
    "        \n",
    "        #first define a variable to store the sum of the individual xcomp,ycomp,and zcomps and mass products\n",
    "        xcompnumerator = 0.0\n",
    "        ycompnumerator = 0.0\n",
    "        zcompnumerator = 0.0\n",
    "        \n",
    "        #loop over elements in xcomponent, ycomponent, and zcomponent arrays as well as the mass array and multiply \n",
    "        #mass and xcomponents together, mass and ycomponents together, and mass and zcomponents together\n",
    "        #then sum them up to get the numerator for Eq. 1 for x, y, and z components of the COM\n",
    "        \n",
    "        for i in range(len(a)):\n",
    "            xcompindividual = a[i]*m[i]    #xcomponent and mass product for an individual particle\n",
    "            xcompnumerator = xcompnumerator + xcompindividual   #sum up all individual x products to get total for numerator in Eq. 1\n",
    "            \n",
    "            ycompindividual = b[i]*m[i]    #ycomponent and mass product for an individual particle\n",
    "            ycompnumerator = ycompnumerator + ycompindividual   #sum up all individual y products to get total for numerator in Eq. 1\n",
    "            \n",
    "            zcompindividual = c[i]*m[i]    #zcomponent and mass product for an individual particle\n",
    "            zcompnumerator = zcompnumerator + zcompindividual   #sum up all individual z products to get total for numerator in Eq. 1\n",
    "\n",
    "        # xcomponent Center of mass\n",
    "        Acom = xcompnumerator/totalmass\n",
    "        # ycomponent Center of mass\n",
    "        Bcom = ycompnumerator/totalmass\n",
    "        # zcomponent Center of mass\n",
    "        Ccom = zcompnumerator/totalmass\n",
    "        \n",
    "        return Acom, Bcom, Ccom\n",
    "    \n",
    "    \n",
    "    def COM_P(self, delta):\n",
    "    # Function to specifically return the center of mass position and velocity                                         \n",
    "    # input:                                                                                                           \n",
    "    #        particle type (1,2,3)                                                                                     \n",
    "    #        delta (tolerance)                                                                                         \n",
    "    # returns: One vector, with rows indicating:                                                                                                                                                                            \n",
    "    #       3D coordinates of the center of mass position (kpc)                                                             \n",
    "\n",
    "        # Center of Mass Position                                                                                      \n",
    "        ###########################                                                                                    \n",
    "\n",
    "        # Try a first guess at the COM position by calling COMdefine                                                   \n",
    "        XCOM, YCOM, ZCOM = self.COMdefine(self.x, self.y, self.z, self.m)\n",
    "        # compute the magnitude of the COM position vector.\n",
    "        # write your own code below\n",
    "        RCOM = np.sqrt(XCOM**2 + YCOM**2 + ZCOM**2)\n",
    "\n",
    "\n",
    "        # iterative process to determine the center of mass                                                            \n",
    "\n",
    "        # change reference frame to COM frame                                                                          \n",
    "        # compute the difference between particle coordinates                                                          \n",
    "        # and the first guess at COM position\n",
    "        # write your own code below\n",
    "        xNew = self.x - XCOM\n",
    "        yNew = self.y - YCOM\n",
    "        zNew = self.z - ZCOM\n",
    "        RNEW = np.sqrt(xNew**2 + yNew**2 + zNew**2)\n",
    "\n",
    "        # find the max 3D distance of all particles from the guessed COM                                               \n",
    "        # will re-start at half that radius (reduced radius)                                                           \n",
    "        RMAX = max(RNEW)/2.0\n",
    "        \n",
    "        # pick an initial value for the change in COM position                                                      \n",
    "        # between the first guess above and the new one computed from half that volume\n",
    "        # it should be larger than the input tolerance (delta) initially\n",
    "        CHANGE = 1000.0\n",
    "\n",
    "        # start iterative process to determine center of mass position                                                 \n",
    "        # delta is the tolerance for the difference in the old COM and the new one.    \n",
    "        \n",
    "        while (CHANGE > delta):\n",
    "            # select all particles within the reduced radius (starting from original x,y,z, m)\n",
    "            # write your own code below (hints, use np.where)\n",
    "            index2 = np.where(RNEW <= RMAX)\n",
    "            x2 = self.x[index2]\n",
    "            y2 = self.y[index2]\n",
    "            z2 = self.z[index2]\n",
    "            m2 = self.m[index2]\n",
    "\n",
    "            # Refined COM position:                                                                                    \n",
    "            # compute the center of mass position using                                                                \n",
    "            # the particles in the reduced radius\n",
    "            # write your own code below\n",
    "            XCOM2, YCOM2, ZCOM2 = self.COMdefine(x2,y2,z2,m2)\n",
    "            # compute the new 3D COM position\n",
    "            # write your own code below\n",
    "            RCOM2 = np.sqrt(XCOM2**2 + YCOM2**2 + ZCOM2**2)\n",
    "\n",
    "            # determine the difference between the previous center of mass position                                    \n",
    "            # and the new one.                                                                                         \n",
    "            CHANGE = np.abs(RCOM - RCOM2)\n",
    "            # uncomment the following line if you want to check this                                                                                               \n",
    "            #print (\"CHANGE = \", CHANGE)                                                                                     \n",
    "\n",
    "            # Before loop continues, reset : RMAX, particle separations and COM                                        \n",
    "\n",
    "            # reduce the volume by a factor of 2 again                                                                 \n",
    "            RMAX = RMAX/2.0\n",
    "            # check this.                                                                                              \n",
    "            #print (\"maxR\", RMAX)                                                                                      \n",
    "\n",
    "            # Change the frame of reference to the newly computed COM.                                                 \n",
    "            # subtract the new COM\n",
    "            # write your own code below\n",
    "            xNew = x2 - XCOM2\n",
    "            yNew = y2 - YCOM2\n",
    "            zNew = z2 - ZCOM2\n",
    "            RNEW = np.sqrt(xNew**2 + yNew**2 + zNew**2)\n",
    "\n",
    "            # set the center of mass positions to the refined values                                                   \n",
    "            XCOM = XCOM2\n",
    "            YCOM = YCOM2\n",
    "            ZCOM = ZCOM2\n",
    "            RCOM = RCOM2\n",
    "\n",
    "            # create a vector to store the COM position                                                                                                                                                       \n",
    "            COMP = [XCOM, YCOM, ZCOM]\n",
    "\n",
    "        # set the correct units usint astropy and round all values\n",
    "        # and then return the COM positon vector\n",
    "        # write your own code below\n",
    "        COMP_with_units = COMP*u.kpc   #return the position components with units of kpc\n",
    "        roundedCOMP = np.around(COMP_with_units, 2)   #round the vector to 2 decimal places \n",
    "        return roundedCOMP                #return rounded position components\n",
    "        \n",
    "    \n",
    "\n",
    "    def COM_V(self, COMX,COMY,COMZ):\n",
    "        # Center of Mass velocity\n",
    "        # input: X, Y, Z positions of the COM\n",
    "        # returns 3D Vector of COM Velocities\n",
    "        \n",
    "        # the max distance from the center that we will use to determine the center of mass velocity                   \n",
    "        RVMAX = 15.0*u.kpc\n",
    "\n",
    "        # determine the position of all particles relative to the center of mass position\n",
    "        # write your own code below\n",
    "        xV = self.x*u.kpc - COMX\n",
    "        yV = self.y*u.kpc - COMY\n",
    "        zV = self.z*u.kpc - COMZ\n",
    "        RV = np.sqrt(xV**2 + yV**2 + zV**2)\n",
    "        \n",
    "        # determine the index for those particles within the max radius\n",
    "        # write your own code below\n",
    "        indexV = np.where(RV <= RVMAX)\n",
    "\n",
    "        # determine the velocity and mass of those particles within the masS radius\n",
    "        # write your own code below\n",
    "        vxnew = self.vx[indexV]\n",
    "        vynew = self.vy[indexV]\n",
    "        vznew = self.vz[indexV]\n",
    "        mnew = self.m[indexV]  \n",
    "        \n",
    "        # compute the center of mass velocity using those particles\n",
    "        # write your own code below\n",
    "        VXCOM, VYCOM, VZCOM = self.COMdefine(vxnew,vynew,vznew,mnew)\n",
    "\n",
    "        #define km/s units\n",
    "        kms = (u.km / u.s)\n",
    "        \n",
    "        COMV = [VXCOM, VYCOM, VZCOM]   # create a vector to store the COM velocity\n",
    "        COMV_with_units = COMV*kms   # set the correct units using astropy\n",
    "        roundedCOMV = np.around(COMV_with_units, 2)   # round all values\n",
    "\n",
    "        # return the COM vector                                                                                        \n",
    "        return roundedCOMV"
   ]
  },
  {
   "cell_type": "code",
   "execution_count": 44,
   "metadata": {
    "ExecuteTime": {
     "end_time": "2020-02-04T23:59:30.160978Z",
     "start_time": "2020-02-04T23:59:26.220455Z"
    }
   },
   "outputs": [],
   "source": [
    "# Create a Center of mass object for the MW, M31 and M33\n",
    "# below is an example of using the class for MW\n",
    "MWCOM = CenterOfMass(\"MW_000.txt\", 2)\n",
    "M31COM = CenterOfMass(\"M31_000.txt\", 2)\n",
    "M33COM = CenterOfMass(\"M33_000.txt\", 2)"
   ]
  },
  {
   "cell_type": "code",
   "execution_count": 45,
   "metadata": {
    "ExecuteTime": {
     "end_time": "2020-02-04T23:59:30.820428Z",
     "start_time": "2020-02-04T23:59:30.761163Z"
    }
   },
   "outputs": [
    {
     "name": "stdout",
     "output_type": "stream",
     "text": [
      "MW COM Position =  [-0.87  2.39 -1.42] kpc\n",
      "MW COM Velocity =  [-0.47  3.41 -1.33] km / s\n",
      "M31 COM Position =  [-377.66  611.43 -284.64] kpc\n",
      "M31 COM Velocity =  [ 72.85 -72.14  49.  ] km / s\n",
      "M33 COM Position =  [-476.22  491.44 -412.4 ] kpc\n",
      "M33 COM Velocity =  [ 44.42 101.78 142.23] km / s\n"
     ]
    }
   ],
   "source": [
    "# Answer to question number 1\n",
    "# MW:   store the position and velocity COM\n",
    "MW_COMP = MWCOM.COM_P(0.1)\n",
    "print(\"MW COM Position = \", MW_COMP)\n",
    "MW_COMV = MWCOM.COM_V(MW_COMP[0], MW_COMP[1], MW_COMP[2])\n",
    "print(\"MW COM Velocity = \", MW_COMV)\n",
    "\n",
    "#M31: store position and velocity COM\n",
    "M31_COMP = M31COM.COM_P(0.1)\n",
    "print(\"M31 COM Position = \", M31_COMP)\n",
    "M31_COMV = M31COM.COM_V(M31_COMP[0], M31_COMP[1], M31_COMP[2])\n",
    "print(\"M31 COM Velocity = \", M31_COMV)\n",
    "\n",
    "#M33: store position and velocity COM\n",
    "M33_COMP = M33COM.COM_P(0.1)\n",
    "print(\"M33 COM Position = \", M33_COMP)\n",
    "M33_COMV = M33COM.COM_V(M33_COMP[0], M33_COMP[1], M33_COMP[2])\n",
    "print(\"M33 COM Velocity = \", M33_COMV)"
   ]
  },
  {
   "cell_type": "code",
   "execution_count": 46,
   "metadata": {},
   "outputs": [
    {
     "name": "stdout",
     "output_type": "stream",
     "text": [
      "The separation between MW and M31 in kpc = 770.138944671674 kpc\n",
      "The separation between the velocities of MW and M31 in km/s = 116.69076141666056 km / s\n"
     ]
    }
   ],
   "source": [
    "#Answer to question 2: what is the magnitude of the separation and velocity between MW and M31?\n",
    "    #first determine magnitude of separation by using the distance formula\n",
    "    #distance formula d = sqrt((x2-x1)^2 + (y2-y1)^2 + (z2-z1)^2)\n",
    "    \n",
    "#use np.subtract to subtract elements of M31 and MW then store component differences in an array\n",
    "distdiff = np.subtract(M31_COMP, MW_COMP)\n",
    "#print(distdiff)\n",
    "\n",
    "#to get the magnitude of separation, square each different component and add all the squares together\n",
    "#then take the square root\n",
    "magofsep = np.sqrt(distdiff[0]**2 + distdiff[1]**2 + distdiff[2]**2)\n",
    "print(\"The separation between MW and M31 in kpc =\", magofsep)\n",
    "\n",
    "#then use same concept for determining the magnitude of velocity between MW and M31\n",
    "velocitydiff = np.subtract(M31_COMV, MW_COMV)\n",
    "\n",
    "#to get the magnitude of velocity, square each different component and add all the squares together\n",
    "#then take the square root\n",
    "magofvelseparation = np.sqrt(velocitydiff[0]**2 + velocitydiff[1]**2 + velocitydiff[2]**2)\n",
    "print(\"The separation between the velocities of MW and M31 in km/s =\", magofvelseparation)\n",
    "\n",
    "#comparing to the notes from Lecture 2, it seems like the calculated distance separation between MW and M31 is correct\n",
    "#since in the notes it states the separation is ~ 770kpc\n",
    "#Again comparing to the notes from Lecture 2, it seems like the calculated velocity difference between MW and M31 is relatively correct\n",
    "#since in the notes it is ~110 km/s"
   ]
  },
  {
   "cell_type": "code",
   "execution_count": 47,
   "metadata": {},
   "outputs": [
    {
     "name": "stdout",
     "output_type": "stream",
     "text": [
      "The separation between M31 and M33 in kpc = 201.08279712595998 kpc\n",
      "The separation between the velocities of M31 and M33 in km/s = 199.36966720140757 km / s\n"
     ]
    }
   ],
   "source": [
    "#Answer to question 3, what is the magnitude of the current separation and velocity between M33 and M31?\n",
    "#follow the same method as taken in question 2\n",
    "\n",
    "#use np.subtract to subtract elements of M31 and M33 then store component differences in an array\n",
    "dist2diff = np.subtract(M31_COMP, M33_COMP)\n",
    "\n",
    "#to get the magnitude of separation, square each different component and add all the squares together\n",
    "#then take the square root\n",
    "mag2ofsep = np.sqrt(dist2diff[0]**2 + dist2diff[1]**2 + dist2diff[2]**2)\n",
    "print(\"The separation between M31 and M33 in kpc =\", mag2ofsep)\n",
    "\n",
    "#then use same concept for determining the magnitude of velocity between MW and M31\n",
    "velocity2diff = np.subtract(M31_COMV, M33_COMV)\n",
    "\n",
    "#to get the magnitude of velocity, square each different component and add all the squares together\n",
    "#then take the square root\n",
    "mag2ofvelseparation = np.sqrt(velocity2diff[0]**2 + velocity2diff[1]**2 + velocity2diff[2]**2)\n",
    "print(\"The separation between the velocities of M31 and M33 in km/s =\", mag2ofvelseparation)\n",
    "\n",
    "#comparing the velocity value calculated to that from Lecture 2, I would say that it's pretty correct because the \n",
    "#value from the lecture is 202 km/s"
   ]
  },
  {
   "cell_type": "markdown",
   "metadata": {},
   "source": [
    "#### Answer to question 4, why is the iterative proces to determine the COM important given that M31 and the MW are about to merge?\n",
    "The iterative process to determine the COM is important since M31 and the Milky Way are supposed to merge, and the COMs for both will continue to change until they merge, where they will have the same COM position.  So using the iterative process in simulations can help us determine when they will merge with more accuracy and precision."
   ]
  },
  {
   "cell_type": "code",
   "execution_count": null,
   "metadata": {},
   "outputs": [],
   "source": []
  }
 ],
 "metadata": {
  "kernelspec": {
   "display_name": "Python 3",
   "language": "python",
   "name": "python3"
  },
  "language_info": {
   "codemirror_mode": {
    "name": "ipython",
    "version": 3
   },
   "file_extension": ".py",
   "mimetype": "text/x-python",
   "name": "python",
   "nbconvert_exporter": "python",
   "pygments_lexer": "ipython3",
   "version": "3.6.5"
  },
  "varInspector": {
   "cols": {
    "lenName": 16,
    "lenType": 16,
    "lenVar": 40
   },
   "kernels_config": {
    "python": {
     "delete_cmd_postfix": "",
     "delete_cmd_prefix": "del ",
     "library": "var_list.py",
     "varRefreshCmd": "print(var_dic_list())"
    },
    "r": {
     "delete_cmd_postfix": ") ",
     "delete_cmd_prefix": "rm(",
     "library": "var_list.r",
     "varRefreshCmd": "cat(var_dic_list()) "
    }
   },
   "types_to_exclude": [
    "module",
    "function",
    "builtin_function_or_method",
    "instance",
    "_Feature"
   ],
   "window_display": false
  }
 },
 "nbformat": 4,
 "nbformat_minor": 2
}
