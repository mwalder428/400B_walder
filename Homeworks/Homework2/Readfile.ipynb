{
 "cells": [
  {
   "cell_type": "code",
   "execution_count": 2,
   "metadata": {},
   "outputs": [],
   "source": [
    "import numpy as np\n",
    "import astropy.units as u"
   ]
  },
  {
   "cell_type": "code",
   "execution_count": 3,
   "metadata": {},
   "outputs": [],
   "source": [
    "#function for reading in .txt files\n",
    "def Read(filename):\n",
    "    file = open(filename, 'r')     #open/read in file\n",
    "    line1 = file.readline()       #read in first line of file\n",
    "    label, value = line1.split()  #split parts of first line into label/value\n",
    "    time = float(value)*10.0*u.Myr   #value of time in Myr\n",
    "    \n",
    "    line2 = file.readline()    #read in second line\n",
    "    label2, value2 = line2.split()   #split parts of second line into label/value\n",
    "    total = float(value2)      #total number of particles\n",
    "    file.close()      #close file\n",
    "    \n",
    "    #stores rest of file and creates arrays to store data with labels\n",
    "    data = np.genfromtxt(filename, dtype = None, names = True, skip_header = 3)\n",
    "    \n",
    "    return time, total, data\n",
    "    "
   ]
  },
  {
   "cell_type": "code",
   "execution_count": 4,
   "metadata": {},
   "outputs": [
    {
     "name": "stdout",
     "output_type": "stream",
     "text": [
      "Time =  0.0 Myr\n",
      "Total Number of Particles =  135000.0\n",
      "Particle type of second particle in file =  1.0\n",
      "Mass of 3rd particle in units of 10^10Msun =  0.00394985\n",
      "x component of position of 3rd particle in kpc =  -0.505945\n"
     ]
    }
   ],
   "source": [
    "#test if function works correctly\n",
    "time, total, data = Read(\"/Users/Maddog/Astr400b/Mw_000.txt\")\n",
    "print(\"Time = \", time)\n",
    "print(\"Total Number of Particles = \", total)\n",
    "print(\"Particle type of second particle in file = \", data['type'][1])\n",
    "print(\"Mass of 3rd particle in units of 10^10Msun = \", data['m'][2])\n",
    "print(\"x component of position of 3rd particle in kpc = \", data['x'][2])"
   ]
  },
  {
   "cell_type": "code",
   "execution_count": null,
   "metadata": {},
   "outputs": [],
   "source": []
  }
 ],
 "metadata": {
  "kernelspec": {
   "display_name": "Python 3",
   "language": "python",
   "name": "python3"
  },
  "language_info": {
   "codemirror_mode": {
    "name": "ipython",
    "version": 3
   },
   "file_extension": ".py",
   "mimetype": "text/x-python",
   "name": "python",
   "nbconvert_exporter": "python",
   "pygments_lexer": "ipython3",
   "version": "3.6.5"
  }
 },
 "nbformat": 4,
 "nbformat_minor": 2
}
