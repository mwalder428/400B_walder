{
 "cells": [
  {
   "cell_type": "code",
   "execution_count": 1,
   "metadata": {},
   "outputs": [],
   "source": [
    "#import necessary libraries/functions\n",
    "import numpy as np\n",
    "from Readfile import Read \n",
    "import astropy.units as u"
   ]
  },
  {
   "cell_type": "code",
   "execution_count": 2,
   "metadata": {},
   "outputs": [],
   "source": [
    "def ParticleInfo(filename, particletype, particlenum):\n",
    "    #read in file and extract needed data from it\n",
    "    time, total, data = Read(filename)\n",
    "    \n",
    "    #store data for wanted particle type\n",
    "    index = np.where(data['type'] == particletype)\n",
    "    xnew = data['x'][index]\n",
    "    ynew = data['y'][index]\n",
    "    znew = data['z'][index]\n",
    "    vxnew = data['vx'][index]\n",
    "    vynew = data['vy'][index]\n",
    "    vznew = data['vz'][index]\n",
    "    massnew = data['m'][index]\n",
    "    \n",
    "    #read in distance component values and set units as kpc\n",
    "    x = xnew[particlenum]\n",
    "    xcomp = float(x)*u.kpc\n",
    "    y = ynew[particlenum]\n",
    "    ycomp = float(y)*u.kpc\n",
    "    z = znew[particlenum]\n",
    "    zcomp = float(z)*u.kpc\n",
    "    \n",
    "    #calculate magnitude of distance squared in kpc\n",
    "    threeDdist = np.sqrt(xcomp**2 + ycomp**2 + zcomp**2)\n",
    "    \n",
    "    #round final distance value to 3 decimal places\n",
    "    rounded3Ddist = np.around(threeDdist, 3)\n",
    "    \n",
    "    #define km/s units\n",
    "    kms = (u.km / u.s)\n",
    "    \n",
    "    #read in velocity component values and set units as km/s\n",
    "    vx = vxnew[particlenum]\n",
    "    vxcomp = float(vx)*kms\n",
    "    vy = vynew[particlenum]\n",
    "    vycomp = float(vy)*kms\n",
    "    vz = vznew[particlenum]\n",
    "    vzcomp = float(vz)*kms\n",
    "    \n",
    "    #calculate magnitude of velocity\n",
    "    threeDvel = np.sqrt(vxcomp**2 + vycomp**2 + vzcomp**2)\n",
    "    \n",
    "    #round final velocity value to 3 decimal places\n",
    "    rounded3Dvel = np.around(threeDvel, 3)\n",
    "    \n",
    "    #get mass of particle in Msun\n",
    "    #in table it is already in units of 10^10 Msun so multiply by 10^10 to get units of Msun\n",
    "    Msununits = (10**10) * u.M_sun\n",
    "    mass = massnew[particlenum]\n",
    "    masswithunits = float(mass)*Msununits\n",
    "    \n",
    "    #return desired quantities\n",
    "    return rounded3Ddist, rounded3Dvel, masswithunits"
   ]
  },
  {
   "cell_type": "code",
   "execution_count": 3,
   "metadata": {},
   "outputs": [
    {
     "name": "stdout",
     "output_type": "stream",
     "text": [
      "Distance of the particle is  4.245 kpc\n",
      "Velocity of the particle is  312.135 km / s\n",
      "Mass of the particle is  1000000.0 solMass\n",
      "3D distance in lightyears =  13845.338 lyr\n"
     ]
    }
   ],
   "source": [
    "#test code, disk star -> type = 2.0, 100th disk star = index 99\n",
    "Dist, velocity, mass = ParticleInfo(\"/Users/Maddog/Astr400b/MW_000.txt\", 2.0, 99)\n",
    "print(\"Distance of the particle is \", Dist)\n",
    "print(\"Velocity of the particle is \", velocity)\n",
    "print(\"Mass of the particle is \", mass)\n",
    "\n",
    "#convert 3D distance to lightyears using astropy and round to 3 decimal places\n",
    "distinly = Dist.to(u.lyr)\n",
    "rounded_distinly = np.around(distinly, 3)\n",
    "print(\"3D distance in lightyears = \", rounded_distinly)"
   ]
  },
  {
   "cell_type": "code",
   "execution_count": null,
   "metadata": {},
   "outputs": [],
   "source": []
  }
 ],
 "metadata": {
  "kernelspec": {
   "display_name": "Python 3",
   "language": "python",
   "name": "python3"
  },
  "language_info": {
   "codemirror_mode": {
    "name": "ipython",
    "version": 3
   },
   "file_extension": ".py",
   "mimetype": "text/x-python",
   "name": "python",
   "nbconvert_exporter": "python",
   "pygments_lexer": "ipython3",
   "version": "3.6.5"
  }
 },
 "nbformat": 4,
 "nbformat_minor": 2
}
