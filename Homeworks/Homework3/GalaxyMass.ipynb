{
 "cells": [
  {
   "cell_type": "code",
   "execution_count": 1,
   "metadata": {},
   "outputs": [],
   "source": [
    "from Readfile import Read\n",
    "from astropy.table import QTable\n",
    "import numpy as np\n",
    "import astropy.units as u"
   ]
  },
  {
   "cell_type": "code",
   "execution_count": 11,
   "metadata": {},
   "outputs": [],
   "source": [
    "def ComponentMass(filename, particletype):\n",
    "#Inputs:\n",
    "    #filename = name of file\n",
    "    #particletype = kind of particle i.e. Halo type (1), Disk type (2), Bulge type (3)\n",
    "#Returns:\n",
    "    #return total mass (rounded to 3 decimal places) of any desired galaxy component in units of 10^12 Msun \n",
    "    #i.e. total mass of disk stars, halo stars, etc.)\n",
    "\n",
    "    #read in file and extract needed data from it\n",
    "    time, total, data = Read(filename)\n",
    "    \n",
    "    #create index to store data only for wanted particle type\n",
    "    index = np.where(data['type'] == particletype)\n",
    "    \n",
    "    #create array to store mass values for wanted particle type\n",
    "    mass = data['m'][index]\n",
    "    \n",
    "    #in table it is already in units of 10^10 Msun so divide by 10^2 to get units of 10^12 Msun\n",
    "    Msun12units = (10**-2) * u.Msun \n",
    "    \n",
    "    #sum up all mass values in array to get total mass of the component\n",
    "    totalmass = np.sum(mass)\n",
    "    \n",
    "    #round total mass to 3 decimal places\n",
    "    roundedmass = np.around(totalmass, 3) * Msun12units\n",
    "    \n",
    "    #return total component mass rounded to 3 decimal places returned without units \n",
    "    return roundedmass"
   ]
  },
  {
   "cell_type": "code",
   "execution_count": 12,
   "metadata": {},
   "outputs": [
    {
     "name": "stdout",
     "output_type": "stream",
     "text": [
      "0.075 solMass\n"
     ]
    }
   ],
   "source": [
    "#testing ComponentMass function by calculating disk mass of MW \n",
    "MWtype2mass = ComponentMass(\"/Users/Maddog/Astr400b/MW_000.txt\", 2.0)\n",
    "print(MWtype2mass)"
   ]
  },
  {
   "cell_type": "code",
   "execution_count": 8,
   "metadata": {},
   "outputs": [],
   "source": [
    "#create table to store results of Galaxy Mass in\n",
    "#columns should be: Galaxy Name, Halo Mass (units), Disk Mass (units), Bulge Mass (units), Total Mass (units), fbar\n",
    "#rows are for each galaxy\n",
    "#mass is in units of 10^12 Msun\n",
    "\n",
    "#establish array for different particle types 1.0 = halo, 2.0 = disk, 3.0 = bulge\n",
    "particletypes = [1.0, 2.0, 3.0]\n",
    "\n",
    "#loop through particle types to compute component mass for MW, M31, and M33\n",
    "#I realize this seems to be a bit more work than just typing out the number of the particle type by why not be fancy?\n",
    "for particle in particletypes:\n",
    "    if particle == 1.0:\n",
    "        MWhalomass = ComponentMass(\"/Users/Maddog/Astr400b/MW_000.txt\", particle)   #Halo component of MW\n",
    "        M31halomass = ComponentMass(\"/Users/Maddog/Astr400b/M31_000.txt\", particle)  #Halo component of M31\n",
    "        M33halomass = ComponentMass(\"/Users/Maddog/Astr400b/M33_000.txt\", particle)  #Halo component of M33\n",
    "    if particle == 2.0:\n",
    "        MWdiskmass = ComponentMass(\"/Users/Maddog/Astr400b/MW_000.txt\", particle)  #Disk component of MW\n",
    "        M31diskmass = ComponentMass(\"/Users/Maddog/Astr400b/M31_000.txt\", particle)  #Disk component of M31\n",
    "        M33diskmass = ComponentMass(\"/Users/Maddog/Astr400b/M33_000.txt\", particle)  #Disk component of M33\n",
    "    if particle == 3.0:\n",
    "        MWbulgemass = ComponentMass(\"/Users/Maddog/Astr400b/MW_000.txt\", particle)  #Bulge component of MW\n",
    "        M31bulgemass = ComponentMass(\"/Users/Maddog/Astr400b/M31_000.txt\", particle)  #Bulge component of M31\n",
    "        M33bulgemass = 0.0   #M33 has no bulge\n",
    "\n",
    "#compute total mass of each galaxy by adding all mass components together\n",
    "totalMWmass = MWhalomass + MWdiskmass + MWbulgemass   #total mass of Milky Way\n",
    "totalM31mass = MWhalomass + M31diskmass + M31bulgemass   #total mass of M31\n",
    "totalM33mass = M33halomass + M33diskmass + M33bulgemass   #total mass of M33\n",
    "\n",
    "#compute total mass components of LG\n",
    "LGhalomass = MWhalomass + MWhalomass + M33halomass   #sum of halo components of local group\n",
    "LGdiskmass = MWdiskmass + M31diskmass + M33diskmass  #sum of disk components of local group\n",
    "LGbulgemass = MWbulgemass + M31bulgemass + M33bulgemass  #sum of bulge components of local group\n",
    "\n",
    "#compute total mass of local group by adding together totalmasses of each galaxy calculated above\n",
    "totalLGmass = totalMWmass + totalM31mass + totalM33mass\n",
    "\n",
    "#compute baryon fraction for each galaxy where fbar = total stellar mass / total mass\n",
    "MWfbar = (MWdiskmass + MWbulgemass)/totalMWmass   #baryon fraction of Milky Way\n",
    "M31fbar = (M31diskmass + M31bulgemass)/totalM31mass   #baryon fraction of M31\n",
    "M33fbar = (M33diskmass + M33bulgemass)/totalM33mass   #baryon fraction of M33\n",
    "LGfbar = (MWdiskmass + MWbulgemass + M31diskmass + M31bulgemass + M33diskmass + M33bulgemass)/totalLGmass  #baryon fraction of Local Group\n",
    "\n",
    "#set units of mass\n",
    "Msununits = u.M_sun\n",
    "\n",
    "#create arrays to store wanted quantities in columns of table\n",
    "galaxynames = [\"Milky Way\", \"M31\", \"M33\", \"Local Group\"]    #array to store galaxy names\n",
    "halomasses = [MWhalomass, M31halomass, M33halomass, LGhalomass]*Msununits    #array to store halo mass components of galaxies\n",
    "diskmasses = [MWdiskmass, M31diskmass, M33diskmass, LGdiskmass]*Msununits    #array to store disk mass components of galaxies\n",
    "bulgemasses = [MWbulgemass, M31bulgemass, M33bulgemass, LGbulgemass]*Msununits   #array to store bulge mass components of galaxies\n",
    "totalmasses = [totalMWmass, totalM31mass, totalM33mass, totalLGmass]*Msununits   #array to store total masses of each galaxy\n",
    "fbar = [MWfbar, M31fbar, M33fbar, LGfbar]   #array to store fbar ratios for each galaxy as well as LG\n",
    "\n",
    "#make table to store all values in\n",
    "t = QTable([galaxynames, halomasses, diskmasses, bulgemasses, totalmasses, fbar], names=('Galaxy Name', 'Halo Mass (10^12 Msun)', 'Disk Mass (10^12 Msun)', 'Bulge Mass (10^12 Msun)', \"Total (10^12 Msun)\", \"fbar\"), meta={'name': 'Local Group Mass Table'})"
   ]
  },
  {
   "cell_type": "code",
   "execution_count": 9,
   "metadata": {},
   "outputs": [
    {
     "data": {
      "text/html": [
       "<i>QTable length=4</i>\n",
       "<table id=\"table4546821592\" class=\"table-striped table-bordered table-condensed\">\n",
       "<thead><tr><th>Galaxy Name</th><th>Halo Mass (10^12 Msun)</th><th>Disk Mass (10^12 Msun)</th><th>Bulge Mass (10^12 Msun)</th><th>Total (10^12 Msun)</th><th>fbar</th></tr></thead>\n",
       "<thead><tr><th></th><th>solMass</th><th>solMass</th><th>solMass</th><th>solMass</th><th></th></tr></thead>\n",
       "<thead><tr><th>str11</th><th>float64</th><th>float64</th><th>float64</th><th>float64</th><th>float64</th></tr></thead>\n",
       "<tr><td>Milky Way</td><td>1.97492</td><td>0.075</td><td>0.01</td><td>2.05992</td><td>0.04126373839760767</td></tr>\n",
       "<tr><td>M31</td><td>1.92088</td><td>0.12</td><td>0.01905</td><td>2.11397</td><td>0.06577671395525954</td></tr>\n",
       "<tr><td>M33</td><td>0.18661000000000003</td><td>0.009300000000000001</td><td>0.0</td><td>0.19591000000000003</td><td>0.04747077739778469</td></tr>\n",
       "<tr><td>Local Group</td><td>4.13645</td><td>0.2043</td><td>0.02905</td><td>4.3698</td><td>0.05340061330037989</td></tr>\n",
       "</table>"
      ],
      "text/plain": [
       "<QTable length=4>\n",
       "Galaxy Name Halo Mass (10^12 Msun) ...  Total (10^12 Msun)         fbar       \n",
       "                   solMass         ...       solMass                          \n",
       "   str11           float64         ...       float64             float64      \n",
       "----------- ---------------------- ... ------------------- -------------------\n",
       "  Milky Way                1.97492 ...             2.05992 0.04126373839760767\n",
       "        M31                1.92088 ...             2.11397 0.06577671395525954\n",
       "        M33    0.18661000000000003 ... 0.19591000000000003 0.04747077739778469\n",
       "Local Group                4.13645 ...              4.3698 0.05340061330037989"
      ]
     },
     "execution_count": 9,
     "metadata": {},
     "output_type": "execute_result"
    }
   ],
   "source": [
    "t"
   ]
  },
  {
   "cell_type": "code",
   "execution_count": 10,
   "metadata": {},
   "outputs": [
    {
     "name": "stdout",
     "output_type": "stream",
     "text": [
      "Milky Way 1.975 solMass 0.075 solMass 0.01 solMass 2.06 solMass 0.041\n",
      "M31 1.921 solMass 0.12 solMass 0.019 solMass 2.114 solMass 0.066\n",
      "M33 0.187 solMass 0.009 solMass 0.0 solMass 0.196 solMass 0.047\n",
      "Local Group 4.136 solMass 0.204 solMass 0.029 solMass 4.37 solMass 0.053\n"
     ]
    }
   ],
   "source": [
    "#Although this table is easy to make, there's no easy way to save it as a pdf.  \n",
    "#SO I've decided to make the table in LateX instead as well as answer the questions so that I may save it as a pdf\n",
    "#print text to be added to table\n",
    "for i in range(len(galaxynames)):\n",
    "    print(galaxynames[i], np.around(halomasses[i],3), np.around(diskmasses[i],3), np.around(bulgemasses[i],3), np.around(totalmasses[i],3), np.around(fbar[i],3))"
   ]
  },
  {
   "cell_type": "code",
   "execution_count": null,
   "metadata": {},
   "outputs": [],
   "source": []
  }
 ],
 "metadata": {
  "kernelspec": {
   "display_name": "Python 3",
   "language": "python",
   "name": "python3"
  },
  "language_info": {
   "codemirror_mode": {
    "name": "ipython",
    "version": 3
   },
   "file_extension": ".py",
   "mimetype": "text/x-python",
   "name": "python",
   "nbconvert_exporter": "python",
   "pygments_lexer": "ipython3",
   "version": "3.6.5"
  }
 },
 "nbformat": 4,
 "nbformat_minor": 2
}
