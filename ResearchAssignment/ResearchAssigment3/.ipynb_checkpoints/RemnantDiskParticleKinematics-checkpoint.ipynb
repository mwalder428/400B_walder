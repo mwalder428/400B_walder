{
 "cells": [
  {
   "cell_type": "markdown",
   "metadata": {},
   "source": [
    "# Research Project Topic\n",
    "I will be using simulation data to determine the kinematics of disk stars in the MW and M31 merger remnant."
   ]
  },
  {
   "cell_type": "markdown",
   "metadata": {},
   "source": [
    "### Question(s) to be pursued\n",
    "The first question I would like to address (because it seems to be a good starting point) is determining the velocity dispersion of the remnant as a function of radius."
   ]
  },
  {
   "cell_type": "markdown",
   "metadata": {},
   "source": [
    "### Plot(s) to be produced\n",
    "The first plot I would like to produce is the velocity dispersion of the disk stars in the remnant as a function of radius."
   ]
  },
  {
   "cell_type": "code",
   "execution_count": 3,
   "metadata": {},
   "outputs": [
    {
     "ename": "ModuleNotFoundError",
     "evalue": "No module named 'Readfile'",
     "output_type": "error",
     "traceback": [
      "\u001b[0;31m---------------------------------------------------------------------------\u001b[0m",
      "\u001b[0;31mModuleNotFoundError\u001b[0m                       Traceback (most recent call last)",
      "\u001b[0;32m<ipython-input-3-ebbc64641bfb>\u001b[0m in \u001b[0;36m<module>\u001b[0;34m()\u001b[0m\n\u001b[1;32m      6\u001b[0m \u001b[0;32mimport\u001b[0m \u001b[0mmatplotlib\u001b[0m\u001b[0;34m\u001b[0m\u001b[0;34m\u001b[0m\u001b[0m\n\u001b[1;32m      7\u001b[0m \u001b[0mget_ipython\u001b[0m\u001b[0;34m(\u001b[0m\u001b[0;34m)\u001b[0m\u001b[0;34m.\u001b[0m\u001b[0mrun_line_magic\u001b[0m\u001b[0;34m(\u001b[0m\u001b[0;34m'matplotlib'\u001b[0m\u001b[0;34m,\u001b[0m \u001b[0;34m'inline'\u001b[0m\u001b[0;34m)\u001b[0m\u001b[0;34m\u001b[0m\u001b[0;34m\u001b[0m\u001b[0m\n\u001b[0;32m----> 8\u001b[0;31m \u001b[0;32mfrom\u001b[0m \u001b[0mReadfile\u001b[0m \u001b[0;32mimport\u001b[0m \u001b[0mRead\u001b[0m\u001b[0;34m\u001b[0m\u001b[0;34m\u001b[0m\u001b[0m\n\u001b[0m\u001b[1;32m      9\u001b[0m \u001b[0;32mfrom\u001b[0m \u001b[0mCenterOfMass\u001b[0m \u001b[0;32mimport\u001b[0m \u001b[0mCenterOfMass\u001b[0m\u001b[0;34m\u001b[0m\u001b[0;34m\u001b[0m\u001b[0m\n\u001b[1;32m     10\u001b[0m \u001b[0;32mfrom\u001b[0m \u001b[0mGalaxyMass\u001b[0m \u001b[0;32mimport\u001b[0m \u001b[0mMassProfile\u001b[0m\u001b[0;34m\u001b[0m\u001b[0;34m\u001b[0m\u001b[0m\n",
      "\u001b[0;31mModuleNotFoundError\u001b[0m: No module named 'Readfile'"
     ]
    }
   ],
   "source": [
    "#first, import necessary modules\n",
    "import numpy as np\n",
    "import astropy.units as u\n",
    "from astropy.constants import G\n",
    "import matplotlib.pyplot as plt\n",
    "import matplotlib\n",
    "%matplotlib inline\n",
    "from Readfile import Read\n",
    "from CenterOfMass import CenterOfMass\n",
    "from GalaxyMass import MassProfile"
   ]
  },
  {
   "cell_type": "code",
   "execution_count": null,
   "metadata": {},
   "outputs": [],
   "source": [
    "#first read in data from orbit files calculated in Homework6\n",
    "MWdata = np.genfromtxt(\"Orbit_MW.txt\", dtype = None, names = True, comments='#')\n",
    "M31data = np.genfromtxt(\"Orbit_M31.txt\", dtype = None, names = True, comments = '#')\n",
    "\n",
    "#create arrays of separate data for each galaxy (i.e. each parameter gets its own array)\n",
    "#for MW\n",
    "MWtime = MWdata['t']\n",
    "MWx = MWdata['x']\n",
    "MWy = MWdata['y']\n",
    "MWz = MWdata['z']\n",
    "MWvx = MWdata['vx']\n",
    "MWvy = MWdata['vy']\n",
    "MWvz = MWdata['vz']\n",
    "\n",
    "#for M31\n",
    "M31time = M31data['t']\n",
    "M31x = M31data['x']\n",
    "M31y = M31data['y']\n",
    "M31z = M31data['z']\n",
    "M31vx = M31data['vx']\n",
    "M31vy = M31data['vy']\n",
    "M31vz = M31data['vz']\n",
    "\n",
    "#since the MW and M31 merge at ~ 6.3 Gyr, pick a snapshot to look at that is a bit of time after that, say around 8 Gyr\n",
    "#I chose Snapshot 575 because it's a nice number (And has a time of ~8.2Gyr)\n",
    "\n"
   ]
  }
 ],
 "metadata": {
  "kernelspec": {
   "display_name": "Python 3",
   "language": "python",
   "name": "python3"
  },
  "language_info": {
   "codemirror_mode": {
    "name": "ipython",
    "version": 3
   },
   "file_extension": ".py",
   "mimetype": "text/x-python",
   "name": "python",
   "nbconvert_exporter": "python",
   "pygments_lexer": "ipython3",
   "version": "3.6.8"
  }
 },
 "nbformat": 4,
 "nbformat_minor": 2
}
