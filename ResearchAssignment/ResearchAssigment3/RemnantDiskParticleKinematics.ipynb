{
 "cells": [
  {
   "cell_type": "markdown",
   "metadata": {},
   "source": [
    "# Research Project Topic\n",
    "I will be using simulation data to determine the kinematics of disk stars in the MW and M31 merger remnant."
   ]
  },
  {
   "cell_type": "markdown",
   "metadata": {},
   "source": [
    "### Question(s) to be pursued\n",
    "The first question I would like to address (because it seems to be a good starting point) is determining the velocity dispersion of the remnant as a function of radius, but in order to do this I must first determine the mean velocity of the remnant as a function of radius."
   ]
  },
  {
   "cell_type": "markdown",
   "metadata": {},
   "source": [
    "### Plot(s) to be produced\n",
    "The first plot I would like to produce is the velocity dispersion of the disk stars in the remnant as a function of radius."
   ]
  },
  {
   "cell_type": "code",
   "execution_count": 15,
   "metadata": {},
   "outputs": [],
   "source": [
    "#first, import necessary modules\n",
    "import numpy as np\n",
    "import astropy.units as u\n",
    "from astropy.constants import G\n",
    "import matplotlib.pyplot as plt\n",
    "import matplotlib\n",
    "%matplotlib inline\n",
    "from Readfile import Read\n",
    "from CenterOfMass import CenterOfMass\n",
    "#import MassProfile"
   ]
  },
  {
   "cell_type": "code",
   "execution_count": 16,
   "metadata": {},
   "outputs": [],
   "source": [
    "#since the MW and M31 merge at ~ 6.3 Gyr, pick a snapshot to look at that is a bit of time after that, say around 8 Gyr\n",
    "#I chose Snapshot 575 because it's a nice number (And has a time of ~8.2Gyr)\n",
    "\n",
    "#step one: Calculate the COM of the merger remnant\n",
    "#step two: calculate the positions/velocities of all the disk particles relative to that COM\n",
    "#step three: calculate the mean velocity as a function of radius"
   ]
  },
  {
   "cell_type": "code",
   "execution_count": 17,
   "metadata": {},
   "outputs": [
    {
     "name": "stdout",
     "output_type": "stream",
     "text": [
      "MW COM Position =  [89.55 94.64 65.77] kpc\n",
      "MW COM Velocity =  [ 37.71 -17.16  29.69] km / s\n",
      "M31 COM Position =  [90.45 95.42 66.09] kpc\n",
      "M31 COM Velocity =  [ 34.63 -15.84  25.97] km / s\n"
     ]
    }
   ],
   "source": [
    "#execute step 1\n",
    "#create a COM object for MW and M31\n",
    "# Create a Center of mass object for the MW, M31\n",
    "MWCOM = CenterOfMass(\"MW_575.txt\", 2)\n",
    "M31COM = CenterOfMass(\"M31_575.txt\", 2)\n",
    "\n",
    "# MW:   store the position and velocity COM\n",
    "MW_COMP = MWCOM.COM_P(0.1, 2.0)\n",
    "print(\"MW COM Position = \", MW_COMP)\n",
    "MW_COMV = MWCOM.COM_V(MW_COMP[0], MW_COMP[1], MW_COMP[2])\n",
    "print(\"MW COM Velocity = \", MW_COMV)\n",
    "\n",
    "#M31: store position and velocity COM\n",
    "M31_COMP = M31COM.COM_P(0.1, 2.0)\n",
    "print(\"M31 COM Position = \", M31_COMP)\n",
    "M31_COMV = M31COM.COM_V(M31_COMP[0], M31_COMP[1], M31_COMP[2])\n",
    "print(\"M31 COM Velocity = \", M31_COMV)\n",
    "\n",
    "#should I use the snapshot where the COMs are the closest and just use one of them? Or should I take an average and use\n",
    "#that average as the merger COM?"
   ]
  },
  {
   "cell_type": "code",
   "execution_count": 31,
   "metadata": {},
   "outputs": [],
   "source": [
    "#read in the data and store variables for them\n",
    "time, total, MWdata = Read(\"MW_575.txt\")\n",
    "time2, total2, M31data = Read(\"M31_575.txt\")\n",
    "\n",
    "#store data for wanted particle type \n",
    "index = np.where(MWdata['type'] == 2)\n",
    "MWx = MWdata['x'][index]\n",
    "MWy = MWdata['y'][index]\n",
    "MWz = MWdata['z'][index]\n",
    "MWvx = MWdata['vx'][index]\n",
    "MWvy = MWdata['vy'][index]\n",
    "MWvz = MWdata['vz'][index]\n",
    "MWmass = MWdata['m'][index]\n",
    "\n",
    "index2 = np.where(M31data['type'] == 2)\n",
    "M31x = M31data['x'][index2]\n",
    "M31y = M31data['y'][index2]\n",
    "M31z = M31data['z'][index2]\n",
    "M31vx = M31data['vx'][index2]\n",
    "M31vy = M31data['vy'][index2]\n",
    "M31vz = M31data['vz'][index2]\n",
    "M31mass = M31data['m'][index2]"
   ]
  },
  {
   "cell_type": "code",
   "execution_count": 32,
   "metadata": {},
   "outputs": [],
   "source": [
    "#for now I will just set the COM position and velocity to be equal to that calculated for the MW\n",
    "MergerCOMP = MW_COMP.value\n",
    "MergerCOMV = MW_COMV.value\n",
    "\n",
    "#execute step 2\n",
    "#create a modified version of particle properties and use it to determine the properties of particles within the remnant\n",
    "def ParticleInfo(filename, particletype, particlenum):\n",
    "    #read in file and extract needed data from it\n",
    "    time, total, data = Read(filename)\n",
    "    \n",
    "    #store data for wanted particle type \n",
    "    index = np.where(data['type'] == particletype)\n",
    "    xnew = data['x'][index]\n",
    "    ynew = data['y'][index]\n",
    "    znew = data['z'][index]\n",
    "    vxnew = data['vx'][index]\n",
    "    vynew = data['vy'][index]\n",
    "    vznew = data['vz'][index]\n",
    "    massnew = data['m'][index]\n",
    "    \n",
    "    # Store positions and velocities of particles of given ptype from the COMP. \n",
    "    xnew2 = xnew - MergerCOMP[0]\n",
    "    ynew2 = ynew - MergerCOMP[1]\n",
    "    znew2 = znew - MergerCOMP[2]\n",
    "    vxnew2 = vxnew - MergerCOMV[0]\n",
    "    vynew2 = vynew - MergerCOMV[1]\n",
    "    vznew2 = vznew - MergerCOMV[2]\n",
    "    \n",
    "    #read in distance component values and set units as kpc\n",
    "    x = xnew2[particlenum]\n",
    "    xcomp = float(x)*u.kpc\n",
    "    y = ynew2[particlenum]\n",
    "    ycomp = float(y)*u.kpc\n",
    "    z = znew2[particlenum]\n",
    "    zcomp = float(z)*u.kpc\n",
    "    \n",
    "    #calculate magnitude of distance squared in kpc\n",
    "    threeDdist = np.sqrt(xcomp**2 + ycomp**2 + zcomp**2)\n",
    "    \n",
    "    #round final distance value to 3 decimal places\n",
    "    rounded3Ddist = np.around(threeDdist, 3)\n",
    "    \n",
    "    #define km/s units\n",
    "    kms = (u.km / u.s)\n",
    "    \n",
    "    #read in velocity component values and set units as km/s\n",
    "    vx = vxnew2[particlenum]\n",
    "    vxcomp = float(vx)*kms\n",
    "    vy = vynew2[particlenum]\n",
    "    vycomp = float(vy)*kms\n",
    "    vz = vznew2[particlenum]\n",
    "    vzcomp = float(vz)*kms\n",
    "    \n",
    "    #calculate magnitude of velocity\n",
    "    threeDvel = np.sqrt(vxcomp**2 + vycomp**2 + vzcomp**2)\n",
    "    \n",
    "    #round final velocity value to 3 decimal places\n",
    "    rounded3Dvel = np.around(threeDvel, 3)\n",
    "    \n",
    "    #return desired quantities\n",
    "    return threeDdist.value, threeDvel.value"
   ]
  },
  {
   "cell_type": "code",
   "execution_count": 33,
   "metadata": {},
   "outputs": [
    {
     "ename": "KeyboardInterrupt",
     "evalue": "",
     "output_type": "error",
     "traceback": [
      "\u001b[0;31m---------------------------------------------------------------------------\u001b[0m",
      "\u001b[0;31mKeyboardInterrupt\u001b[0m                         Traceback (most recent call last)",
      "\u001b[0;32m<ipython-input-33-e01e38466712>\u001b[0m in \u001b[0;36m<module>\u001b[0;34m()\u001b[0m\n\u001b[1;32m      6\u001b[0m \u001b[0;34m\u001b[0m\u001b[0m\n\u001b[1;32m      7\u001b[0m \u001b[0;32mfor\u001b[0m \u001b[0mi\u001b[0m \u001b[0;32min\u001b[0m \u001b[0mrange\u001b[0m\u001b[0;34m(\u001b[0m\u001b[0mlen\u001b[0m\u001b[0;34m(\u001b[0m\u001b[0mMWx\u001b[0m\u001b[0;34m)\u001b[0m\u001b[0;34m)\u001b[0m\u001b[0;34m:\u001b[0m\u001b[0;34m\u001b[0m\u001b[0;34m\u001b[0m\u001b[0m\n\u001b[0;32m----> 8\u001b[0;31m     \u001b[0mrmagsMW\u001b[0m\u001b[0;34m[\u001b[0m\u001b[0mi\u001b[0m\u001b[0;34m]\u001b[0m\u001b[0;34m,\u001b[0m \u001b[0mvmagsMW\u001b[0m\u001b[0;34m[\u001b[0m\u001b[0mi\u001b[0m\u001b[0;34m]\u001b[0m \u001b[0;34m=\u001b[0m \u001b[0mParticleInfo\u001b[0m\u001b[0;34m(\u001b[0m\u001b[0;34m\"MW_575.txt\"\u001b[0m\u001b[0;34m,\u001b[0m \u001b[0;36m2\u001b[0m\u001b[0;34m,\u001b[0m \u001b[0mi\u001b[0m\u001b[0;34m)\u001b[0m\u001b[0;34m\u001b[0m\u001b[0;34m\u001b[0m\u001b[0m\n\u001b[0m\u001b[1;32m      9\u001b[0m     \u001b[0;31m#rmagsM31[i], vmagsM31[i] = ParticleInfo(\"M31_575.txt\", 2, i)\u001b[0m\u001b[0;34m\u001b[0m\u001b[0;34m\u001b[0m\u001b[0;34m\u001b[0m\u001b[0m\n\u001b[1;32m     10\u001b[0m \u001b[0;34m\u001b[0m\u001b[0m\n",
      "\u001b[0;32m<ipython-input-32-a71d825191ee>\u001b[0m in \u001b[0;36mParticleInfo\u001b[0;34m(filename, particletype, particlenum)\u001b[0m\n\u001b[1;32m      7\u001b[0m \u001b[0;32mdef\u001b[0m \u001b[0mParticleInfo\u001b[0m\u001b[0;34m(\u001b[0m\u001b[0mfilename\u001b[0m\u001b[0;34m,\u001b[0m \u001b[0mparticletype\u001b[0m\u001b[0;34m,\u001b[0m \u001b[0mparticlenum\u001b[0m\u001b[0;34m)\u001b[0m\u001b[0;34m:\u001b[0m\u001b[0;34m\u001b[0m\u001b[0;34m\u001b[0m\u001b[0m\n\u001b[1;32m      8\u001b[0m     \u001b[0;31m#read in file and extract needed data from it\u001b[0m\u001b[0;34m\u001b[0m\u001b[0;34m\u001b[0m\u001b[0;34m\u001b[0m\u001b[0m\n\u001b[0;32m----> 9\u001b[0;31m     \u001b[0mtime\u001b[0m\u001b[0;34m,\u001b[0m \u001b[0mtotal\u001b[0m\u001b[0;34m,\u001b[0m \u001b[0mdata\u001b[0m \u001b[0;34m=\u001b[0m \u001b[0mRead\u001b[0m\u001b[0;34m(\u001b[0m\u001b[0mfilename\u001b[0m\u001b[0;34m)\u001b[0m\u001b[0;34m\u001b[0m\u001b[0;34m\u001b[0m\u001b[0m\n\u001b[0m\u001b[1;32m     10\u001b[0m \u001b[0;34m\u001b[0m\u001b[0m\n\u001b[1;32m     11\u001b[0m     \u001b[0;31m#store data for wanted particle type\u001b[0m\u001b[0;34m\u001b[0m\u001b[0;34m\u001b[0m\u001b[0;34m\u001b[0m\u001b[0m\n",
      "\u001b[0;32m~/Astr400b/Readfile.py\u001b[0m in \u001b[0;36mRead\u001b[0;34m(filename)\u001b[0m\n\u001b[1;32m     22\u001b[0m \u001b[0;34m\u001b[0m\u001b[0m\n\u001b[1;32m     23\u001b[0m     \u001b[0;31m#stores rest of file and creates arrays to store data with labels\u001b[0m\u001b[0;34m\u001b[0m\u001b[0;34m\u001b[0m\u001b[0;34m\u001b[0m\u001b[0m\n\u001b[0;32m---> 24\u001b[0;31m     \u001b[0mdata\u001b[0m \u001b[0;34m=\u001b[0m \u001b[0mnp\u001b[0m\u001b[0;34m.\u001b[0m\u001b[0mgenfromtxt\u001b[0m\u001b[0;34m(\u001b[0m\u001b[0mfilename\u001b[0m\u001b[0;34m,\u001b[0m \u001b[0mdtype\u001b[0m \u001b[0;34m=\u001b[0m \u001b[0;32mNone\u001b[0m\u001b[0;34m,\u001b[0m \u001b[0mnames\u001b[0m \u001b[0;34m=\u001b[0m \u001b[0;32mTrue\u001b[0m\u001b[0;34m,\u001b[0m \u001b[0mskip_header\u001b[0m \u001b[0;34m=\u001b[0m \u001b[0;36m3\u001b[0m\u001b[0;34m)\u001b[0m\u001b[0;34m\u001b[0m\u001b[0;34m\u001b[0m\u001b[0m\n\u001b[0m\u001b[1;32m     25\u001b[0m \u001b[0;34m\u001b[0m\u001b[0m\n\u001b[1;32m     26\u001b[0m     \u001b[0;31m#return desired values\u001b[0m\u001b[0;34m\u001b[0m\u001b[0;34m\u001b[0m\u001b[0;34m\u001b[0m\u001b[0m\n",
      "\u001b[0;32m/anaconda3/lib/python3.6/site-packages/numpy/lib/npyio.py\u001b[0m in \u001b[0;36mgenfromtxt\u001b[0;34m(fname, dtype, comments, delimiter, skip_header, skip_footer, converters, missing_values, filling_values, usecols, names, excludelist, deletechars, replace_space, autostrip, case_sensitive, defaultfmt, unpack, usemask, loose, invalid_raise, max_rows, encoding)\u001b[0m\n\u001b[1;32m   2033\u001b[0m         rows = list(\n\u001b[1;32m   2034\u001b[0m             zip(*[[conv._loose_call(_r) for _r in map(itemgetter(i), rows)]\n\u001b[0;32m-> 2035\u001b[0;31m                   for (i, conv) in enumerate(converters)]))\n\u001b[0m\u001b[1;32m   2036\u001b[0m     \u001b[0;32melse\u001b[0m\u001b[0;34m:\u001b[0m\u001b[0;34m\u001b[0m\u001b[0;34m\u001b[0m\u001b[0m\n\u001b[1;32m   2037\u001b[0m         rows = list(\n",
      "\u001b[0;32m/anaconda3/lib/python3.6/site-packages/numpy/lib/npyio.py\u001b[0m in \u001b[0;36m<listcomp>\u001b[0;34m(.0)\u001b[0m\n\u001b[1;32m   2033\u001b[0m         rows = list(\n\u001b[1;32m   2034\u001b[0m             zip(*[[conv._loose_call(_r) for _r in map(itemgetter(i), rows)]\n\u001b[0;32m-> 2035\u001b[0;31m                   for (i, conv) in enumerate(converters)]))\n\u001b[0m\u001b[1;32m   2036\u001b[0m     \u001b[0;32melse\u001b[0m\u001b[0;34m:\u001b[0m\u001b[0;34m\u001b[0m\u001b[0;34m\u001b[0m\u001b[0m\n\u001b[1;32m   2037\u001b[0m         rows = list(\n",
      "\u001b[0;32m/anaconda3/lib/python3.6/site-packages/numpy/lib/npyio.py\u001b[0m in \u001b[0;36m<listcomp>\u001b[0;34m(.0)\u001b[0m\n\u001b[1;32m   2032\u001b[0m     \u001b[0;32mif\u001b[0m \u001b[0mloose\u001b[0m\u001b[0;34m:\u001b[0m\u001b[0;34m\u001b[0m\u001b[0;34m\u001b[0m\u001b[0m\n\u001b[1;32m   2033\u001b[0m         rows = list(\n\u001b[0;32m-> 2034\u001b[0;31m             zip(*[[conv._loose_call(_r) for _r in map(itemgetter(i), rows)]\n\u001b[0m\u001b[1;32m   2035\u001b[0m                   for (i, conv) in enumerate(converters)]))\n\u001b[1;32m   2036\u001b[0m     \u001b[0;32melse\u001b[0m\u001b[0;34m:\u001b[0m\u001b[0;34m\u001b[0m\u001b[0;34m\u001b[0m\u001b[0m\n",
      "\u001b[0;31mKeyboardInterrupt\u001b[0m: "
     ]
    }
   ],
   "source": [
    "#create an array of distances and velocities for every particle in MW and M31\n",
    "rmagsMW = np.zeros(len(MWx))\n",
    "vmagsMW = np.zeros(len(MWx))\n",
    "rmagsM31 = np.zeros(len(M31x))\n",
    "vmagsM31 = np.zeros(len(M31x))\n",
    "\n",
    "for i in range(len(MWx)):\n",
    "    rmagsMW[i], vmagsMW[i] = ParticleInfo(\"MW_575.txt\", 2, i)\n",
    "    #rmagsM31[i], vmagsM31[i] = ParticleInfo(\"M31_575.txt\", 2, i)\n",
    "\n",
    "print(rmagsMW)\n",
    "\n",
    "#this ran for more than 3 hours..."
   ]
  },
  {
   "cell_type": "code",
   "execution_count": null,
   "metadata": {},
   "outputs": [],
   "source": [
    "#create a function to calculate the mean velocities, and spread of velocities for stars for a given array of radii\n",
    "r = np.arange(0.1, 30.0, 1.0)*u.kpc\n",
    "#do I do this like calculating mass enclosed where I calculate the average velocity of particles enclosed in a certain radius???\n",
    "\n",
    "def VelocityMeansandStds(r, v, rdata):\n",
    "    #Inputs: \n",
    "        #r = array of set radii\n",
    "        #v = array of velocity magnitudes\n",
    "        #rdata = radii of stars\n",
    "    #returns\n",
    "        #array of average velocities\n",
    "        #array of std of velocities\n",
    "    meanvel = np.zeros(len(r))\n",
    "    stdvel = np.zeros(len(r))\n",
    "    \n",
    "    #loop over radius array to define particles enclosed within radius\n",
    "    for i in range(len(r)):\n",
    "        #create index to select particles whose radii are less than the ith element of the radii array \n",
    "        index2 = np.where(rdata <= r[i])\n",
    "            \n",
    "        #make new array of radii and velocities that satisfy the above condition\n",
    "        Rnew = rdata[index2]\n",
    "        Vnew = v[index2]\n",
    "            \n",
    "        #store mean of all the velocities that fall under the condition as an element in meanvel\n",
    "        meanvel[i] = np.mean(Vnew)\n",
    "        stdvel[i] = np.std(Vnew)\n",
    "        \n",
    "    return meanvel, stdvel  \n",
    "    "
   ]
  },
  {
   "cell_type": "code",
   "execution_count": null,
   "metadata": {},
   "outputs": [],
   "source": [
    "#Use VelocityMeansandStds to calculate an array of meanvelocities and the standard deviation of velocities\n",
    "#i.e. velocity dispersions for both the MW and M31 disk stars at this snapshot, then plot them as a function of radius "
   ]
  }
 ],
 "metadata": {
  "kernelspec": {
   "display_name": "Python 3",
   "language": "python",
   "name": "python3"
  },
  "language_info": {
   "codemirror_mode": {
    "name": "ipython",
    "version": 3
   },
   "file_extension": ".py",
   "mimetype": "text/x-python",
   "name": "python",
   "nbconvert_exporter": "python",
   "pygments_lexer": "ipython3",
   "version": "3.6.8"
  }
 },
 "nbformat": 4,
 "nbformat_minor": 2
}
